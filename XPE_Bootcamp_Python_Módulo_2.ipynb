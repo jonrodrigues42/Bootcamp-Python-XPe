{
  "nbformat": 4,
  "nbformat_minor": 0,
  "metadata": {
    "colab": {
      "provenance": [],
      "authorship_tag": "ABX9TyOq1dI62AQxoPc4vSiiBXdv",
      "include_colab_link": true
    },
    "kernelspec": {
      "name": "python3",
      "display_name": "Python 3"
    },
    "language_info": {
      "name": "python"
    }
  },
  "cells": [
    {
      "cell_type": "markdown",
      "metadata": {
        "id": "view-in-github",
        "colab_type": "text"
      },
      "source": [
        "<a href=\"https://colab.research.google.com/github/jonrodrigues42/Bootcamp-Python-XPe/blob/master/XPE_Bootcamp_Python_M%C3%B3dulo_2.ipynb\" target=\"_parent\"><img src=\"https://colab.research.google.com/assets/colab-badge.svg\" alt=\"Open In Colab\"/></a>"
      ]
    },
    {
      "cell_type": "code",
      "execution_count": null,
      "metadata": {
        "id": "w6cFD0pVF0Qs"
      },
      "outputs": [],
      "source": [
        "# importando as dependências\n",
        "import numpy as np"
      ]
    },
    {
      "cell_type": "markdown",
      "source": [
        "# Criação de arrays"
      ],
      "metadata": {
        "id": "fN2Gy_BX3xf1"
      }
    },
    {
      "cell_type": "code",
      "source": [
        "# help da função\n",
        "np.array?"
      ],
      "metadata": {
        "id": "BjqgtzkCGDmR"
      },
      "execution_count": null,
      "outputs": []
    },
    {
      "cell_type": "code",
      "source": [
        "# criando um array 1D: [1, 2, 3]\n",
        "l = [1, 2, 3]\n",
        "x = np.array(l)\n",
        "print(\"x: \", x)\n",
        "print(\"shape: \", x.shape)"
      ],
      "metadata": {
        "colab": {
          "base_uri": "https://localhost:8080/"
        },
        "id": "rFqfy6R5GIAM",
        "outputId": "b3261bb7-d85a-47f3-ef12-424647ca851c"
      },
      "execution_count": null,
      "outputs": [
        {
          "output_type": "stream",
          "name": "stdout",
          "text": [
            "x:  [1 2 3]\n",
            "shape:  (3,)\n"
          ]
        }
      ]
    },
    {
      "cell_type": "code",
      "source": [
        "type(x)"
      ],
      "metadata": {
        "colab": {
          "base_uri": "https://localhost:8080/"
        },
        "id": "bjHIfPWUGgaM",
        "outputId": "31412fc0-2c8e-4347-ee16-d820ee663207"
      },
      "execution_count": null,
      "outputs": [
        {
          "output_type": "execute_result",
          "data": {
            "text/plain": [
              "numpy.ndarray"
            ]
          },
          "metadata": {},
          "execution_count": 5
        }
      ]
    },
    {
      "cell_type": "code",
      "source": [
        "# criando um array 2D: listas aninhadas\n",
        "l = [[1, 2], [3, 4]]\n",
        "x = np.array(l)\n",
        "print(\"x:\\n\", x)\n",
        "print(\"shape: \", x.shape)"
      ],
      "metadata": {
        "colab": {
          "base_uri": "https://localhost:8080/"
        },
        "id": "M3_GXR1EGiUL",
        "outputId": "40058392-508a-4c7d-90ce-11db3e768473"
      },
      "execution_count": null,
      "outputs": [
        {
          "output_type": "stream",
          "name": "stdout",
          "text": [
            "x:\n",
            " [[1 2]\n",
            " [3 4]]\n",
            "shape:  (2, 2)\n"
          ]
        }
      ]
    },
    {
      "cell_type": "code",
      "source": [
        "# array contendo apenas 0s e 1s\n",
        "dim = (2, 2) # (linhas, colunas)\n",
        "x = np.zeros(dim)\n",
        "y = np.ones(dim)\n",
        "print(\"x:\\n\", x)\n",
        "print(\"x shape: \", x.shape)\n",
        "print(\"\\n\\n\")\n",
        "print(\"y:\\n\", y)\n",
        "print(\"y shape: \", y.shape)"
      ],
      "metadata": {
        "colab": {
          "base_uri": "https://localhost:8080/"
        },
        "id": "DUpLV7_BHZ3I",
        "outputId": "1f1e11e1-683a-4543-b9f1-db694b49686c"
      },
      "execution_count": null,
      "outputs": [
        {
          "output_type": "stream",
          "name": "stdout",
          "text": [
            "x:\n",
            " [[0. 0.]\n",
            " [0. 0.]]\n",
            "x shape:  (2, 2)\n",
            "\n",
            "\n",
            "\n",
            "y:\n",
            " [[1. 1.]\n",
            " [1. 1.]]\n",
            "y shape:  (2, 2)\n"
          ]
        }
      ]
    },
    {
      "cell_type": "code",
      "source": [
        "# criaçãode valroes dentro de um intervalo\n",
        "# valores uniformes entre 5 e 15\n",
        "x_min, x_max = 5, 15\n",
        "x = np.linspace(x_min, x_max, 6)\n",
        "print(\"x: \", x)\n",
        "print(\"shape: \", x.shape)"
      ],
      "metadata": {
        "colab": {
          "base_uri": "https://localhost:8080/"
        },
        "id": "3M8j29voH-LM",
        "outputId": "29a9bc73-dc5e-42a6-c907-bb3bff53b650"
      },
      "execution_count": null,
      "outputs": [
        {
          "output_type": "stream",
          "name": "stdout",
          "text": [
            "x:  [ 5.  7.  9. 11. 13. 15.]\n",
            "shape:  (6,)\n"
          ]
        }
      ]
    },
    {
      "cell_type": "code",
      "source": [
        "# ciração da matriz identidade\n",
        "x = np.eye(4)\n",
        "print(\"x:\\n\", x)\n",
        "print(\"shape: \", x.shape)"
      ],
      "metadata": {
        "colab": {
          "base_uri": "https://localhost:8080/"
        },
        "id": "UyIfdUzkIaHF",
        "outputId": "77b72e0b-9a97-4d2f-beea-5570cb397d84"
      },
      "execution_count": null,
      "outputs": [
        {
          "output_type": "stream",
          "name": "stdout",
          "text": [
            "x:\n",
            " [[1. 0. 0. 0.]\n",
            " [0. 1. 0. 0.]\n",
            " [0. 0. 1. 0.]\n",
            " [0. 0. 0. 1.]]\n",
            "shape:  (4, 4)\n"
          ]
        }
      ]
    },
    {
      "cell_type": "code",
      "source": [
        "# criação de valores aletórios\n",
        "x = np.random.random(size=(2, 3))\n",
        "print(\"x:\\n\", x)\n",
        "print(\"shape: \", x.shape)"
      ],
      "metadata": {
        "colab": {
          "base_uri": "https://localhost:8080/"
        },
        "id": "ACRkOqJ8Ik2G",
        "outputId": "3c4d9b8e-730a-4fac-a06a-ed2ae0371384"
      },
      "execution_count": null,
      "outputs": [
        {
          "output_type": "stream",
          "name": "stdout",
          "text": [
            "x:\n",
            " [[0.61918198 0.459283   0.90162412]\n",
            " [0.54187572 0.75785055 0.73204858]]\n",
            "shape:  (2, 3)\n"
          ]
        }
      ]
    },
    {
      "cell_type": "markdown",
      "source": [
        "# Indexação de arrays"
      ],
      "metadata": {
        "id": "iagZ3FX-3-aG"
      }
    },
    {
      "cell_type": "code",
      "source": [
        "# os índices no Python vão de 0 a n-1\n",
        "# onde n é o tamanho da dimensão\n",
        "x = np.linspace(10, 100, 10)\n",
        "print(f\"x: {x}\")\n",
        "print(f\"shape: {x.shape}\")"
      ],
      "metadata": {
        "colab": {
          "base_uri": "https://localhost:8080/"
        },
        "id": "OLhgPoTN4EJg",
        "outputId": "e2620786-dc6a-4e83-de44-afa9ad98c2ba"
      },
      "execution_count": null,
      "outputs": [
        {
          "output_type": "stream",
          "name": "stdout",
          "text": [
            "x: [ 10.  20.  30.  40.  50.  60.  70.  80.  90. 100.]\n",
            "shape: (10,)\n"
          ]
        }
      ]
    },
    {
      "cell_type": "code",
      "source": [
        "# extração de elementos\n",
        "print(f\"x: {x}\")\n",
        "print(f\"primeiro elemento: {x[0]}\")\n",
        "print(f\"segundo elemento: {x[1]}\")\n",
        "print(f\"último elemento: {x[9]}\")\n",
        "print(f\"último (-1) elemento: {x[-1]}\")"
      ],
      "metadata": {
        "colab": {
          "base_uri": "https://localhost:8080/"
        },
        "id": "SUiPwNmD4as4",
        "outputId": "f08c39f1-3f76-4001-be3b-72892cf89077"
      },
      "execution_count": null,
      "outputs": [
        {
          "output_type": "stream",
          "name": "stdout",
          "text": [
            "x: [ 10.  20.  30.  40.  50.  60.  70.  80.  90. 100.]\n",
            "primeiro elemento: 10.0\n",
            "segundo elemento: 20.0\n",
            "último elemento: 100.0\n",
            "último (-1) elemento: 100.0\n"
          ]
        }
      ]
    },
    {
      "cell_type": "code",
      "source": [
        "# slicing: extração de subarrays:\n",
        "print(f\"x: {x}\")\n",
        "print(f\"dois primeiros elementos: {x[0:2]}\") # 2 é exlusivo\n",
        "print(f\"dois primeiros elementos: {x[:2]}\") # 2 é exlusivo, pode-se omitir 0\n",
        "print(f\"dois últimos elementos: {x[-2:]}\")"
      ],
      "metadata": {
        "colab": {
          "base_uri": "https://localhost:8080/"
        },
        "id": "5MXZxefJ43vf",
        "outputId": "b0ef29be-51b6-4df1-a804-dc9192566ecc"
      },
      "execution_count": null,
      "outputs": [
        {
          "output_type": "stream",
          "name": "stdout",
          "text": [
            "x: [ 10.  20.  30.  40.  50.  60.  70.  80.  90. 100.]\n",
            "dois primeiros elementos: [10. 20.]\n",
            "dois primeiros elementos: [10. 20.]\n",
            "dois últimos elementos: [ 90. 100.]\n"
          ]
        }
      ]
    },
    {
      "cell_type": "code",
      "source": [
        "# slicing em arrys 2D (matrizes)\n",
        "x = x.reshape(2, 5) # reshape de x para 2 linhas e 5 colunas\n",
        "print(f\"x:\\n {x}\")"
      ],
      "metadata": {
        "colab": {
          "base_uri": "https://localhost:8080/"
        },
        "id": "Y3Ju4i5R5myk",
        "outputId": "a66eba3d-a70f-413f-93a4-dcaecad858b3"
      },
      "execution_count": null,
      "outputs": [
        {
          "output_type": "stream",
          "name": "stdout",
          "text": [
            "x:\n",
            " [[ 10.  20.  30.  40.  50.]\n",
            " [ 60.  70.  80.  90. 100.]]\n"
          ]
        }
      ]
    },
    {
      "cell_type": "code",
      "source": [
        "# extração de elementos\n",
        "print(f\"x:\\n {x}\\n\")\n",
        "print(f\"primeira linha, segunda coluna: {x[0, 1]}\")\n",
        "print(f\"segunda linha, penúltima coluna: {x[1, -2]}\")\n",
        "print(f\"última linha, última coluna: {x[-1, 4]}\")\n",
        "print(f\"última linha, última coluna: {x[-1, -1]}\")"
      ],
      "metadata": {
        "colab": {
          "base_uri": "https://localhost:8080/"
        },
        "id": "aqpXqYb454PP",
        "outputId": "fc46419b-dbb7-424f-84ce-af1a2870cf00"
      },
      "execution_count": null,
      "outputs": [
        {
          "output_type": "stream",
          "name": "stdout",
          "text": [
            "x:\n",
            " [[ 10.  20.  30.  40.  50.]\n",
            " [ 60.  70.  80.  90. 100.]]\n",
            "\n",
            "primeira linha, segunda coluna: 20.0\n",
            "segunda linha, penúltima coluna: 90.0\n",
            "última linha, última coluna: 100.0\n",
            "última linha, última coluna: 100.0\n"
          ]
        }
      ]
    },
    {
      "cell_type": "code",
      "source": [
        "# slicing: estração de subarrays\n",
        "print(f\"x:\\n{x}\\n\")\n",
        "print(f\"primeira linha inteira: {x[0, :]}\")\n",
        "print(f\"primeira linha, segunda à quarta colina: {x[0, 1:4]}\")\n",
        "print(f\"última coluna inteira:\\n {x[:, [-1]]}\") # ao passar entre [-1] entre colchetes, mantêm os elementos no tipo coluna"
      ],
      "metadata": {
        "colab": {
          "base_uri": "https://localhost:8080/"
        },
        "id": "JhYvBsKx6crS",
        "outputId": "8a410645-4514-4d00-bc8f-49afd40190c0"
      },
      "execution_count": null,
      "outputs": [
        {
          "output_type": "stream",
          "name": "stdout",
          "text": [
            "x:\n",
            "[[ 10.  20.  30.  40.  50.]\n",
            " [ 60.  70.  80.  90. 100.]]\n",
            "\n",
            "primeira linha inteira: [10. 20. 30. 40. 50.]\n",
            "primeira linha, segunda à quarta colina: [20. 30. 40.]\n",
            "última coluna inteira:\n",
            " [[ 50.]\n",
            " [100.]]\n"
          ]
        }
      ]
    },
    {
      "cell_type": "code",
      "source": [
        "# atenção com compartilhamento de memória em subarrays!\n",
        "x = np.array([1, 2, 3])\n",
        "print(f\"x antes: {x}\")\n",
        "y = x[:2]\n",
        "y[0] = -100 # alteração do valor em y altera o valor de x\n",
        "print(f\"x depois: {x}\") # um slicing é uma \"shallow copy\" do array original\n",
        "print(f\"y: {y}\")"
      ],
      "metadata": {
        "colab": {
          "base_uri": "https://localhost:8080/"
        },
        "id": "0QKIGDp57DYQ",
        "outputId": "9f66a8ae-8951-496d-d81b-6a64c40d2d3b"
      },
      "execution_count": null,
      "outputs": [
        {
          "output_type": "stream",
          "name": "stdout",
          "text": [
            "x antes: [1 2 3]\n",
            "x depois: [-100    2    3]\n",
            "y: [-100    2]\n"
          ]
        }
      ]
    },
    {
      "cell_type": "code",
      "source": [
        "# atenção com compartilhamento de memória em subarrays!!\n",
        "x = np.array([1, 2, 3])\n",
        "print(f\"x antes: {x}\")\n",
        "y = x[:2].copy()\n",
        "y[0] = -100 # alteração do valor em y NÃO altera o valor de x\n",
        "print(f\"x depois: {x}\")\n",
        "print(f\"y: {y}\")"
      ],
      "metadata": {
        "colab": {
          "base_uri": "https://localhost:8080/"
        },
        "id": "UZ8F0cd370TC",
        "outputId": "cf51bd7c-4e68-4efc-d1a7-0d4baea1b47f"
      },
      "execution_count": null,
      "outputs": [
        {
          "output_type": "stream",
          "name": "stdout",
          "text": [
            "x antes: [1 2 3]\n",
            "x depois: [1 2 3]\n",
            "y: [-100    2]\n"
          ]
        }
      ]
    },
    {
      "cell_type": "markdown",
      "source": [
        "# Operações aritméticas"
      ],
      "metadata": {
        "id": "0O5qG3Q6M-Td"
      }
    },
    {
      "cell_type": "code",
      "source": [
        "# criação de dois arrays x e y\n",
        "x = np.ones((2, 2))\n",
        "y = np.eye(2)\n",
        "print(f\"x: \\n {x} \\n\")\n",
        "print(f\"y: \\n {y} \\n\")"
      ],
      "metadata": {
        "colab": {
          "base_uri": "https://localhost:8080/"
        },
        "id": "-SV4vHctNC7O",
        "outputId": "6a8beb59-733f-4971-a43e-373487eda9d7"
      },
      "execution_count": null,
      "outputs": [
        {
          "output_type": "stream",
          "name": "stdout",
          "text": [
            "x: \n",
            " [[1. 1.]\n",
            " [1. 1.]] \n",
            "\n",
            "y: \n",
            " [[1. 0.]\n",
            " [0. 1.]] \n",
            "\n"
          ]
        }
      ]
    },
    {
      "cell_type": "code",
      "source": [
        "# soma\n",
        "print(f\"soma de dois arrays:\\n {x + y}\")\n",
        "print(f\"soma com float ou int:\\n {x + 2}\") # broadcasting"
      ],
      "metadata": {
        "colab": {
          "base_uri": "https://localhost:8080/"
        },
        "id": "Z2smNCZCPzfE",
        "outputId": "c2c1361d-6684-4f5f-a5f9-597d6570cc1b"
      },
      "execution_count": null,
      "outputs": [
        {
          "output_type": "stream",
          "name": "stdout",
          "text": [
            "soma de dois arrays:\n",
            " [[2. 1.]\n",
            " [1. 2.]]\n",
            "soma com float ou int:\n",
            " [[3. 3.]\n",
            " [3. 3.]]\n"
          ]
        }
      ]
    },
    {
      "cell_type": "code",
      "source": [
        "# subtração\n",
        "print(f\"subtração de dois arrays:\\n {x - y}\")\n",
        "print(f\"subtração com float ou int:\\n {x - 2}\") # broadcasting"
      ],
      "metadata": {
        "colab": {
          "base_uri": "https://localhost:8080/"
        },
        "id": "UqNB1Kv4QDcr",
        "outputId": "174473df-91f2-4581-920d-f29ee8686329"
      },
      "execution_count": null,
      "outputs": [
        {
          "output_type": "stream",
          "name": "stdout",
          "text": [
            "subtração de dois arrays:\n",
            " [[0. 1.]\n",
            " [1. 0.]]\n",
            "subtração com float ou int:\n",
            " [[-1. -1.]\n",
            " [-1. -1.]]\n"
          ]
        }
      ]
    },
    {
      "cell_type": "code",
      "source": [
        "# divisão\n",
        "print(f\"divisão de dois arrays:\\n {x / y}\")\n",
        "print(f\"divisão com float ou int:\\n {x / 2}\")"
      ],
      "metadata": {
        "colab": {
          "base_uri": "https://localhost:8080/"
        },
        "id": "gjlb314NQQCW",
        "outputId": "1d7c0e96-7055-4c2f-870d-d581ef012937"
      },
      "execution_count": null,
      "outputs": [
        {
          "output_type": "stream",
          "name": "stdout",
          "text": [
            "divisão de dois arrays:\n",
            " [[ 1. inf]\n",
            " [inf  1.]]\n",
            "divisão com float ou int:\n",
            " [[0.5 0.5]\n",
            " [0.5 0.5]]\n"
          ]
        },
        {
          "output_type": "stream",
          "name": "stderr",
          "text": [
            "<ipython-input-9-6ab590008ebb>:2: RuntimeWarning: divide by zero encountered in true_divide\n",
            "  print(f\"divisão de dois arrays:\\n {x / y}\")\n"
          ]
        }
      ]
    },
    {
      "cell_type": "code",
      "source": [
        "# quando o broadcasting não funciona\n",
        "# np.array([1, 2, 3]) + np.array([1, 2])"
      ],
      "metadata": {
        "id": "iBqPhuYHRcOA"
      },
      "execution_count": null,
      "outputs": []
    },
    {
      "cell_type": "code",
      "source": [
        "# soma, subtração e divisão\n",
        "print(f\"combinação de operações: \\n {(x+y)/(x-2)}\")"
      ],
      "metadata": {
        "colab": {
          "base_uri": "https://localhost:8080/"
        },
        "id": "VxmwzgFVRmPT",
        "outputId": "593b1486-efe8-42ea-c35d-9992c375a871"
      },
      "execution_count": null,
      "outputs": [
        {
          "output_type": "stream",
          "name": "stdout",
          "text": [
            "combinação de operações: \n",
            " [[-2. -1.]\n",
            " [-1. -2.]]\n"
          ]
        }
      ]
    },
    {
      "cell_type": "markdown",
      "source": [
        "# Funções aritméticas: multiplicação"
      ],
      "metadata": {
        "id": "GZCl-VheTGGk"
      }
    },
    {
      "cell_type": "code",
      "source": [
        "# multiplicação elemento a elemento\n",
        "print(f\"x: \\n {x}\")\n",
        "print(f\"y: \\n {y}\")"
      ],
      "metadata": {
        "colab": {
          "base_uri": "https://localhost:8080/"
        },
        "id": "XajOOxGCTL9e",
        "outputId": "8746ae9b-9ec1-4859-b40d-d64cca51a133"
      },
      "execution_count": null,
      "outputs": [
        {
          "output_type": "stream",
          "name": "stdout",
          "text": [
            "x: \n",
            " [[1. 1.]\n",
            " [1. 1.]]\n",
            "y: \n",
            " [[1. 0.]\n",
            " [0. 1.]]\n"
          ]
        }
      ]
    },
    {
      "cell_type": "code",
      "source": [
        "# multiplicação\n",
        "print(f\"multiplicação de dois arrays:\\n {x * y}\")\n",
        "print(f\"multiplicação com float ou int:\\n {x * 2}\") # broadcasting"
      ],
      "metadata": {
        "colab": {
          "base_uri": "https://localhost:8080/"
        },
        "id": "EZBhKqlnTWKV",
        "outputId": "e2d049d9-0de8-4588-aa2f-b7e94cc866e0"
      },
      "execution_count": null,
      "outputs": [
        {
          "output_type": "stream",
          "name": "stdout",
          "text": [
            "multiplicação de dois arrays:\n",
            " [[1. 0.]\n",
            " [0. 1.]]\n",
            "multiplicação com float ou int:\n",
            " [[2. 2.]\n",
            " [2. 2.]]\n"
          ]
        }
      ]
    },
    {
      "cell_type": "code",
      "source": [
        "# multiplicação matricial\n",
        "print(f\"multiplicação matricial (np.dot):\\n {np.dot(x, y)}\\n\")\n",
        "print(f\"multiplicação matricial (@):\\n {x @ y}\\n\")\n",
        "print(f\"multiplicação matricial (.dot):\\n {x.dot(y)}\")"
      ],
      "metadata": {
        "colab": {
          "base_uri": "https://localhost:8080/"
        },
        "id": "__EG9uXcT56j",
        "outputId": "bb601843-3f3b-49e2-f7b7-9bd330325505"
      },
      "execution_count": null,
      "outputs": [
        {
          "output_type": "stream",
          "name": "stdout",
          "text": [
            "multiplicação matricial (np.dot):\n",
            " [[1. 1.]\n",
            " [1. 1.]]\n",
            "\n",
            "multiplicação matricial (@):\n",
            " [[1. 1.]\n",
            " [1. 1.]]\n",
            "\n",
            "multiplicação matricial (.dot):\n",
            " [[1. 1.]\n",
            " [1. 1.]]\n"
          ]
        }
      ]
    },
    {
      "cell_type": "code",
      "source": [
        "### teste\n",
        "a = np.array([[3, 5], [2, 0]])\n",
        "b = np.array([[4, 5, -2], [2, 1, 3]])\n",
        "a @ b"
      ],
      "metadata": {
        "colab": {
          "base_uri": "https://localhost:8080/"
        },
        "id": "930nGeeFX-dh",
        "outputId": "57c10ab3-3d27-40a3-99e5-5de3fdc6e047"
      },
      "execution_count": null,
      "outputs": [
        {
          "output_type": "execute_result",
          "data": {
            "text/plain": [
              "array([[22, 20,  9],\n",
              "       [ 8, 10, -4]])"
            ]
          },
          "metadata": {},
          "execution_count": 28
        }
      ]
    },
    {
      "cell_type": "markdown",
      "source": [
        "**Exemplo:**  \n",
        "Solução de um sistema de equações:  \n",
        "```\n",
        "  a + 2*b = 7  \n",
        "3*a + 2*b = -11  \n",
        "Solução analitica: (a, b) = (-1, 4)\n",
        "```\n",
        "\n",
        "Matricialmente, esse problema tem a seguinte forma:  \n",
        "\n",
        "Ax = c, onde:\n",
        "  - x = [a, b]\n",
        "  - A = [[1, 2], [3, -2]]\n",
        "  - c = [7, -11]  \n",
        "Solução numérica: x = inv(A) @ c"
      ],
      "metadata": {
        "id": "e12cMsCaZJHC"
      }
    },
    {
      "cell_type": "code",
      "source": [
        "# definição do problema\n",
        "A = np.array([[1, 2], [3, -2]])\n",
        "c = np.array([[7], [-11]])\n",
        "print(f\"A: \\n {A}\")\n",
        "print(f\"C: \\n {c}\")"
      ],
      "metadata": {
        "colab": {
          "base_uri": "https://localhost:8080/"
        },
        "id": "U6oy2yhFZFne",
        "outputId": "b0cee006-66f3-4daa-9f0d-8ff4c9c55971"
      },
      "execution_count": null,
      "outputs": [
        {
          "output_type": "stream",
          "name": "stdout",
          "text": [
            "A: \n",
            " [[ 1  2]\n",
            " [ 3 -2]]\n",
            "C: \n",
            " [[  7]\n",
            " [-11]]\n"
          ]
        }
      ]
    },
    {
      "cell_type": "code",
      "source": [
        "# solução\n",
        "# np.linalg.inv traz a inversa da matriz\n",
        "x = np.dot(np.linalg.inv(A), c)\n",
        "# x = np.linalg.inv(A) @ c\n",
        "print(f\"(a, b): \\n {x.ravel()}\")"
      ],
      "metadata": {
        "colab": {
          "base_uri": "https://localhost:8080/"
        },
        "id": "ge7Bvm8Pa-47",
        "outputId": "d5ad5842-0cd4-44fc-ac2a-c615c80ed9d9"
      },
      "execution_count": null,
      "outputs": [
        {
          "output_type": "stream",
          "name": "stdout",
          "text": [
            "(a, b): \n",
            " [-1.  4.]\n"
          ]
        }
      ]
    },
    {
      "cell_type": "markdown",
      "source": [
        "# Comparação booleana"
      ],
      "metadata": {
        "id": "6RIOoc7ysNp9"
      }
    },
    {
      "cell_type": "code",
      "source": [
        "# criação dos arrays\n",
        "x = np.array([[1, 2], [3, 4]])\n",
        "y = np.array([1.5, 3.5])\n",
        "print(f\"x: \\n{x}\")\n",
        "print(f\"y: \\n{y}\")"
      ],
      "metadata": {
        "colab": {
          "base_uri": "https://localhost:8080/"
        },
        "id": "E6T9nT9YsQlE",
        "outputId": "a622cef3-7992-4b95-c446-c14a9431c06d"
      },
      "execution_count": null,
      "outputs": [
        {
          "output_type": "stream",
          "name": "stdout",
          "text": [
            "x: \n",
            "[[1 2]\n",
            " [3 4]]\n",
            "y: \n",
            "[1.5 3.5]\n"
          ]
        }
      ]
    },
    {
      "cell_type": "code",
      "source": [
        "# compração ponto a ponto\n",
        "print(f\"Comparação de um array com um escalar (>): \\n {x > 2}\")\n",
        "print(f\"Comparação de um array com um escalar (>=): \\n {x >= 2}\")\n",
        "print(f\"Comparação de um array com um escalar (<): \\n {x < 2}\")\n",
        "print(f\"Comparação de um array com um escalar (<=): \\n {x <= 2}\")\n",
        "\n",
        "print('\\n', '#'*50, '\\n')\n",
        "\n",
        "print(f\"Comparação entre arrays (==): \\n {x == x}\")\n",
        "print(f\"Comparação entre arrays (>): \\n {x > x}\")\n",
        "print(f\"Comparação entre arrays (>): \\n {x > y}\") # broadcasting"
      ],
      "metadata": {
        "colab": {
          "base_uri": "https://localhost:8080/"
        },
        "id": "etSLYpsVt_Zq",
        "outputId": "b82f2d5d-39e5-46f2-bee2-bc981f992152"
      },
      "execution_count": null,
      "outputs": [
        {
          "output_type": "stream",
          "name": "stdout",
          "text": [
            "Comparação de um array com um escalar (>): \n",
            " [[False False]\n",
            " [ True  True]]\n",
            "Comparação de um array com um escalar (>=): \n",
            " [[False  True]\n",
            " [ True  True]]\n",
            "Comparação de um array com um escalar (<): \n",
            " [[ True False]\n",
            " [False False]]\n",
            "Comparação de um array com um escalar (<=): \n",
            " [[ True  True]\n",
            " [False False]]\n",
            "\n",
            " ################################################## \n",
            "\n",
            "Comparação entre arrays (==): \n",
            " [[ True  True]\n",
            " [ True  True]]\n",
            "Comparação entre arrays (>): \n",
            " [[False False]\n",
            " [False False]]\n",
            "Comparação entre arrays (>): \n",
            " [[False False]\n",
            " [ True  True]]\n"
          ]
        }
      ]
    },
    {
      "cell_type": "markdown",
      "source": [
        "# Indexação booleana"
      ],
      "metadata": {
        "id": "tsDTHGpUvNHH"
      }
    },
    {
      "cell_type": "code",
      "source": [
        "# indexação booleana\n",
        "x = np.array([[1, 3, 7],\n",
        "              [4, 11, 21],\n",
        "              [42, 8, 9]])\n",
        "print(f\"x:\\n{x}\")"
      ],
      "metadata": {
        "colab": {
          "base_uri": "https://localhost:8080/"
        },
        "id": "789LawW0vPqG",
        "outputId": "a1fb5fc1-3f58-4cd6-d219-a48839762eea"
      },
      "execution_count": null,
      "outputs": [
        {
          "output_type": "stream",
          "name": "stdout",
          "text": [
            "x:\n",
            "[[ 1  3  7]\n",
            " [ 4 11 21]\n",
            " [42  8  9]]\n"
          ]
        }
      ]
    },
    {
      "cell_type": "code",
      "source": [
        "# indexação booleana: retornar o número de elementos\n",
        "# maiores que k\n",
        "k = 10\n",
        "cond = x > k\n",
        "print(f\"condição: \\n{cond}\\n\")\n",
        "print(f\"elementos maiores que {k}: {x[cond]}\")\n",
        "print(f\"número de elementos maiores que {k}: {len(x[cond])}\")"
      ],
      "metadata": {
        "colab": {
          "base_uri": "https://localhost:8080/"
        },
        "id": "1-FzCn59z6cU",
        "outputId": "ccbd7b63-9c41-4b14-9ba6-48d892905e3e"
      },
      "execution_count": null,
      "outputs": [
        {
          "output_type": "stream",
          "name": "stdout",
          "text": [
            "condição: \n",
            "[[False False False]\n",
            " [False  True  True]\n",
            " [ True False False]]\n",
            "\n",
            "elementos maiores que 10: [11 21 42]\n",
            "número de elementos maiores que 10: 3\n"
          ]
        }
      ]
    },
    {
      "cell_type": "code",
      "source": [
        "# indexação boolena: extração dos números pares\n",
        "cond = x % 2 == 0 # números pares\n",
        "print(f\"condição: \\n{cond}\")\n",
        "print(f\"números pares: {x[cond]}\")"
      ],
      "metadata": {
        "colab": {
          "base_uri": "https://localhost:8080/"
        },
        "id": "gPiYgfel1EL-",
        "outputId": "f92c7fc9-623a-4982-aefe-c83c4b23711d"
      },
      "execution_count": null,
      "outputs": [
        {
          "output_type": "stream",
          "name": "stdout",
          "text": [
            "condição: \n",
            "[[False False False]\n",
            " [ True False False]\n",
            " [ True  True False]]\n",
            "números pares: [ 4 42  8]\n"
          ]
        }
      ]
    },
    {
      "cell_type": "code",
      "source": [
        "# indexação booleana: extração dos números ímpares\n",
        "cond = x % 2 == 1 # números ímpares\n",
        "print(f\"condição: \\n{cond}\")\n",
        "print(f\"números ímpares: {x[cond]}\")"
      ],
      "metadata": {
        "colab": {
          "base_uri": "https://localhost:8080/"
        },
        "id": "cmcAYE3t1eL4",
        "outputId": "94d915ac-030c-4018-bd62-f7bc48c5140a"
      },
      "execution_count": null,
      "outputs": [
        {
          "output_type": "stream",
          "name": "stdout",
          "text": [
            "condição: \n",
            "[[ True  True  True]\n",
            " [False  True  True]\n",
            " [False False  True]]\n",
            "números ímpares: [ 1  3  7 11 21  9]\n"
          ]
        }
      ]
    },
    {
      "cell_type": "markdown",
      "source": [
        "# Outras operações úteis em numpy"
      ],
      "metadata": {
        "id": "YpPvE5nB15u2"
      }
    },
    {
      "cell_type": "code",
      "source": [
        "# array\n",
        "x = np.array([[1, 3, 7],\n",
        "              [4, 11, 21],\n",
        "              [42, 8, 9]])\n",
        "print(f\"x:\\n{x}\")"
      ],
      "metadata": {
        "colab": {
          "base_uri": "https://localhost:8080/"
        },
        "id": "E3bzdGQ518j6",
        "outputId": "7a9ed224-b429-402a-9267-cb44ec6debc8"
      },
      "execution_count": null,
      "outputs": [
        {
          "output_type": "stream",
          "name": "stdout",
          "text": [
            "x:\n",
            "[[ 1  3  7]\n",
            " [ 4 11 21]\n",
            " [42  8  9]]\n"
          ]
        }
      ]
    },
    {
      "cell_type": "code",
      "source": [
        "# reshape: transformar a matrix em um vetor coluna\n",
        "# (3, 3) vira (9, 1): 3*3 = 9*1 = 9\n",
        "print(f\"transformação de x em um vetor coluna: \\n{x.reshape(9, 1)}\")"
      ],
      "metadata": {
        "colab": {
          "base_uri": "https://localhost:8080/"
        },
        "id": "_IMiBxj92KO6",
        "outputId": "b0c96de2-8b13-4a8b-cfb4-09a6cb7e9760"
      },
      "execution_count": null,
      "outputs": [
        {
          "output_type": "stream",
          "name": "stdout",
          "text": [
            "transformação de x em um vetor coluna: \n",
            "[[ 1]\n",
            " [ 3]\n",
            " [ 7]\n",
            " [ 4]\n",
            " [11]\n",
            " [21]\n",
            " [42]\n",
            " [ 8]\n",
            " [ 9]]\n"
          ]
        }
      ]
    },
    {
      "cell_type": "code",
      "source": [
        "# transposição de matrix\n",
        "print(f\"x transposta: \\n{x.T}\")"
      ],
      "metadata": {
        "colab": {
          "base_uri": "https://localhost:8080/"
        },
        "id": "02U1jwjF3rYE",
        "outputId": "68b9e314-527d-42c6-8a35-bfe7faaf3511"
      },
      "execution_count": null,
      "outputs": [
        {
          "output_type": "stream",
          "name": "stdout",
          "text": [
            "x transposta: \n",
            "[[ 1  4 42]\n",
            " [ 3 11  8]\n",
            " [ 7 21  9]]\n"
          ]
        }
      ]
    },
    {
      "cell_type": "code",
      "source": [
        "# np.sum: soma em um dado eixo, axis = {0: linha, 1: coluna}\n",
        "print(f\"x:\\n{x}\\n\")\n",
        "print(f\"soma de todos elementos de x: {np.sum(x)}\")\n",
        "print(f\"soma de x ao longo das linhas: {np.sum(x, 0)}\") # axis = 0\n",
        "print(f\"soma de x ao longo das colunas: {np.sum(x, 1)}\") # axis = 1"
      ],
      "metadata": {
        "colab": {
          "base_uri": "https://localhost:8080/"
        },
        "id": "E30aJs4z32pl",
        "outputId": "a129c6d2-36ed-4d34-88cf-96f633cc30ac"
      },
      "execution_count": null,
      "outputs": [
        {
          "output_type": "stream",
          "name": "stdout",
          "text": [
            "x:\n",
            "[[ 1  3  7]\n",
            " [ 4 11 21]\n",
            " [42  8  9]]\n",
            "\n",
            "soma de todos elementos de x: 106\n",
            "soma de x ao longo das linhas: [47 22 37]\n",
            "soma de x ao longo das colunas: [11 36 59]\n"
          ]
        }
      ]
    },
    {
      "cell_type": "code",
      "source": [
        "# np.mean: média em u mdado eixo, axis = {0: linha, 1 coluna}\n",
        "# np.median segue a mesma lógica, fazendo a mediana\n",
        "print(f\"x:\\n{x}\\n\")\n",
        "print(f\"média de todos os elementos de x: {np.mean(x):.2f}\") #:.2f para manter 2 casas decimais\n",
        "print(f\"média de x ao longo das linhas: {np.mean(x, 0)}\") # axis = 0\n",
        "print(f\"média de x ao longo das colunas: {np.mean(x, 1)}\") # axis = 1\n",
        "# for i in np.mean(x, 0):\n",
        "#   print(f'{i:.2f}')\n",
        "\n",
        "#median calcula mediana"
      ],
      "metadata": {
        "colab": {
          "base_uri": "https://localhost:8080/"
        },
        "id": "TtkegJuO48o9",
        "outputId": "256fc973-a581-4034-d0d0-a83848bd915c"
      },
      "execution_count": 6,
      "outputs": [
        {
          "output_type": "stream",
          "name": "stdout",
          "text": [
            "x:\n",
            "[[ 1  3  7]\n",
            " [ 4 11 21]\n",
            " [42  8  9]]\n",
            "\n",
            "média de todos os elementos de x: 11.78\n",
            "média de x ao longo das linhas: [15.66666667  7.33333333 12.33333333]\n",
            "média de x ao longo das colunas: [ 3.66666667 12.         19.66666667]\n"
          ]
        }
      ]
    },
    {
      "cell_type": "code",
      "source": [
        "# np.wjere, identificação dos índices onde uma dada condição é atendida\n",
        "# Uso conjunto com indexação booleana\n",
        "#print(x)\n",
        "cond = x % 2 == 0 # números pares\n",
        "print(f\"condição: \\n{cond}\")\n",
        "i, j = np.where(cond) # índices[i, j] = x[cond]\n",
        "print(f\"índice i (linhas): {i}\")\n",
        "print(f\"índice j (colunas): {j}\")\n",
        "print(x[i,j])"
      ],
      "metadata": {
        "colab": {
          "base_uri": "https://localhost:8080/"
        },
        "id": "Mygd83Fu7I5d",
        "outputId": "1428a7a5-283b-4fcf-f03d-67d399077627"
      },
      "execution_count": 9,
      "outputs": [
        {
          "output_type": "stream",
          "name": "stdout",
          "text": [
            "[[ 1  3  7]\n",
            " [ 4 11 21]\n",
            " [42  8  9]]\n",
            "condição: \n",
            "[[False False False]\n",
            " [ True False False]\n",
            " [ True  True False]]\n",
            "índice i (linhas): [1 2 2]\n",
            "índice j (colunas): [0 0 1]\n",
            "[ 4 42  8]\n"
          ]
        }
      ]
    },
    {
      "cell_type": "code",
      "source": [
        "# indexação booleana e slicing: selecionar as linhas\n",
        "# de x que possuem algum número par\n",
        "print(f\"x:\\n{x}\\n\")\n",
        "cond = x % 2 == 0 # números pares\n",
        "print(f\"condição: \\n{cond}\\n\")\n",
        "\n",
        "# se houver alguma condição True na linha, a soma será > 0\n",
        "i_row = np.where(np.sum(cond, 1))[0] # primeiro elemento da tupla para mostrar somente índice das linhas\n",
        "print(f\"índice das linhas que possuem núemros pares: {i_row}\")\n",
        "print(f\"linhas que possuem números pares: \\n{x[i_row, :]}\")"
      ],
      "metadata": {
        "colab": {
          "base_uri": "https://localhost:8080/"
        },
        "id": "ihyapurx8fYU",
        "outputId": "e5b9955c-4945-47be-f8de-4675d3449eaf"
      },
      "execution_count": null,
      "outputs": [
        {
          "output_type": "stream",
          "name": "stdout",
          "text": [
            "x:\n",
            "[[ 1  3  7]\n",
            " [ 4 11 21]\n",
            " [42  8  9]]\n",
            "\n",
            "condição: \n",
            "[[False False False]\n",
            " [ True False False]\n",
            " [ True  True False]]\n",
            "\n",
            "índice das linhas que possuem núemros pares: [1 2]\n",
            "linhas que possuem números pares: \n",
            "[[ 4 11 21]\n",
            " [42  8  9]]\n"
          ]
        }
      ]
    },
    {
      "cell_type": "code",
      "source": [
        "import numpy as np\n",
        "# array\n",
        "x = np.array([[1, 3, 7],\n",
        "              [4, 11, 21],\n",
        "              [42, 8, 9]])\n",
        "print(f\"x:\\n{x}\")"
      ],
      "metadata": {
        "colab": {
          "base_uri": "https://localhost:8080/"
        },
        "id": "2X7RrQAiQhsB",
        "outputId": "79c226ef-a6f6-4737-e132-029cdcb50711"
      },
      "execution_count": 3,
      "outputs": [
        {
          "output_type": "stream",
          "name": "stdout",
          "text": [
            "x:\n",
            "[[ 1  3  7]\n",
            " [ 4 11 21]\n",
            " [42  8  9]]\n"
          ]
        }
      ]
    },
    {
      "cell_type": "markdown",
      "source": [
        "# Regressão linear"
      ],
      "metadata": {
        "id": "gJy3lhmmTXu2"
      }
    },
    {
      "cell_type": "code",
      "source": [
        "# biblioteca para visualização de dados\n",
        "import matplotlib.pyplot as plt"
      ],
      "metadata": {
        "id": "EZFC_M4KXAqT"
      },
      "execution_count": 10,
      "outputs": []
    },
    {
      "cell_type": "code",
      "source": [
        "# dados\n",
        "x = [-1., -0.77777778, -0.55555556, -0.33333333, -0.11111111,\n",
        "     0.11111111, 0.33333333, 0.55555556, 0.77777778, 1.]\n",
        "y = [-1.13956201, -0.57177999, -0.21697033, 0.5425699, 0.49406657,\n",
        "     1.14972239, 1.64228553, 2.1749824, 2.64773614, 2.95684202]"
      ],
      "metadata": {
        "id": "FrFGzzi4XnNt"
      },
      "execution_count": 11,
      "outputs": []
    },
    {
      "cell_type": "code",
      "source": [
        "# plot dos dados\n",
        "plt.figure(figsize=(10, 5)) # iniciar um objeto de figura do tamanho 10x5\n",
        "plt.plot(x, y, 'o', label='dados originais') # eixo x, eixo y, tipo do plot (scatter plot (pontinhos)), label\n",
        "plt.legend() # printa o label no plot\n",
        "plt.xlabel('x') # nome do eixo x\n",
        "plt.ylabel('y') # nome do eixo y\n",
        "plt.grid() # grid\n",
        "plt.show()"
      ],
      "metadata": {
        "colab": {
          "base_uri": "https://localhost:8080/",
          "height": 465
        },
        "id": "nIBT0HAwYkEp",
        "outputId": "0f4367b3-998c-4135-9bdd-3f2a21c6ac51"
      },
      "execution_count": 25,
      "outputs": [
        {
          "output_type": "display_data",
          "data": {
            "text/plain": [
              "<Figure size 1000x500 with 1 Axes>"
            ],
            "image/png": "[encoded data removed]"
          },
          "metadata": {}
        }
      ]
    },
    {
      "cell_type": "markdown",
      "source": [
        "Regressão linear:\n",
        "\n",
        "$$X\\beta=y,\\\\\\beta=\\left[\\begin{array}{c}a\\\\b\\end{array}\\right] .$$\n",
        "\n",
        "Solução via minimização do erro quadrático:\n",
        "\n",
        "$$\\beta=(X^TX)^{-1}X^Ty,$$\n",
        "onde $(X^TX)^{-1}X^T$ é a pseudo-inversa de $X$, facilmente calculada pelo método `np.linalg.pinv(X)`."
      ],
      "metadata": {
        "id": "aZkDZYyIaVTp"
      }
    },
    {
      "cell_type": "code",
      "source": [
        "\"\"\"\n",
        "Iremos estimar uma função do tipo: y = a*x + b\n",
        "ou seja, devemos achar quais os valores de a b\n",
        "que melhor representam os dados.\n",
        "\n",
        "Os valores de a e b são (a, b): 2, 1\n",
        "\"\"\"\n",
        "\n",
        "# transformando para numpy e veteor coluna\n",
        "x = np.array(x).reshape(-1, 1) # -1 para calcular o número de linhas\n",
        "y = np.array(y).reshape(-1, 1) # 1 para forçar a ter uma única coluna\n",
        "\n",
        "# adicionando bias: para estimar o termo b\n",
        "X = np.hstack((x, np.ones(x.shape)))\n",
        "\n",
        "# estimando a e b\n",
        "beta = np.linalg.pinv(X).dot(y)\n",
        "print(f\"a estimado: {beta[0][0]:.3f}\")\n",
        "print(f\"b estimado: {beta[1][0]:.3f}\")"
      ],
      "metadata": {
        "colab": {
          "base_uri": "https://localhost:8080/"
        },
        "id": "i139FfVoaZE4",
        "outputId": "30a6bff1-1260-4bdb-b2b0-faf5215627c4"
      },
      "execution_count": 38,
      "outputs": [
        {
          "output_type": "stream",
          "name": "stdout",
          "text": [
            "a estimado: 2.054\n",
            "b estimado: 0.968\n"
          ]
        }
      ]
    },
    {
      "cell_type": "code",
      "source": [
        "# plot dos dados\n",
        "plt.figure(figsize=(10, 5)) # iniciar um objeto de figura do tamanho 10x5\n",
        "plt.plot(x, y, 'o', label='dados originais') # eixo x, eixo y, tipo do plot (scatter plot (pontinhos)), label\n",
        "plt.plot(x, X.dot(beta), label='regressão linear')\n",
        "plt.legend() # printa o label no plot\n",
        "plt.xlabel('x') # nome do eixo x\n",
        "plt.ylabel('y') # nome do eixo y\n",
        "plt.title(\"Regressão linear com numpy\")\n",
        "plt.grid() # grid\n",
        "plt.show()"
      ],
      "metadata": {
        "colab": {
          "base_uri": "https://localhost:8080/",
          "height": 487
        },
        "id": "3mlkkq5cfLpz",
        "outputId": "75c343ca-0865-4458-a5c3-e5529fc8cf54"
      },
      "execution_count": 44,
      "outputs": [
        {
          "output_type": "display_data",
          "data": {
            "text/plain": [
              "<Figure size 1000x500 with 1 Axes>"
            ],
            "image/png": "[encoded data removed]"
          },
          "metadata": {}
        }
      ]
    },
    {
      "cell_type": "code",
      "source": [],
      "metadata": {
        "id": "z3CcFq-6fpua"
      },
      "execution_count": null,
      "outputs": []
    }
  ]
}