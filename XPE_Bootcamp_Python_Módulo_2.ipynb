{
  "nbformat": 4,
  "nbformat_minor": 0,
  "metadata": {
    "colab": {
      "provenance": [],
      "authorship_tag": "ABX9TyNMa1JOCjC8z67QrqZ681z6",
      "include_colab_link": true
    },
    "kernelspec": {
      "name": "python3",
      "display_name": "Python 3"
    },
    "language_info": {
      "name": "python"
    }
  },
  "cells": [
    {
      "cell_type": "markdown",
      "metadata": {
        "id": "view-in-github",
        "colab_type": "text"
      },
      "source": [
        "<a href=\"https://colab.research.google.com/github/jonrodrigues42/Bootcamp-Python-XPe/blob/master/XPE_Bootcamp_Python_M%C3%B3dulo_2.ipynb\" target=\"_parent\"><img src=\"https://colab.research.google.com/assets/colab-badge.svg\" alt=\"Open In Colab\"/></a>"
      ]
    },
    {
      "cell_type": "code",
      "execution_count": null,
      "metadata": {
        "id": "w6cFD0pVF0Qs"
      },
      "outputs": [],
      "source": [
        "# importando as dependências\n",
        "import numpy as np"
      ]
    },
    {
      "cell_type": "code",
      "source": [
        "# help da função\n",
        "np.array?"
      ],
      "metadata": {
        "id": "BjqgtzkCGDmR"
      },
      "execution_count": null,
      "outputs": []
    },
    {
      "cell_type": "code",
      "source": [
        "# criando um array 1D: [1, 2, 3]\n",
        "l = [1, 2, 3]\n",
        "x = np.array(l)\n",
        "print(\"x: \", x)\n",
        "print(\"shape: \", x.shape)"
      ],
      "metadata": {
        "colab": {
          "base_uri": "https://localhost:8080/"
        },
        "id": "rFqfy6R5GIAM",
        "outputId": "b3261bb7-d85a-47f3-ef12-424647ca851c"
      },
      "execution_count": null,
      "outputs": [
        {
          "output_type": "stream",
          "name": "stdout",
          "text": [
            "x:  [1 2 3]\n",
            "shape:  (3,)\n"
          ]
        }
      ]
    },
    {
      "cell_type": "code",
      "source": [
        "type(x)"
      ],
      "metadata": {
        "colab": {
          "base_uri": "https://localhost:8080/"
        },
        "id": "bjHIfPWUGgaM",
        "outputId": "31412fc0-2c8e-4347-ee16-d820ee663207"
      },
      "execution_count": null,
      "outputs": [
        {
          "output_type": "execute_result",
          "data": {
            "text/plain": [
              "numpy.ndarray"
            ]
          },
          "metadata": {},
          "execution_count": 5
        }
      ]
    },
    {
      "cell_type": "code",
      "source": [
        "# criando um array 2D: listas aninhadas\n",
        "l = [[1, 2], [3, 4]]\n",
        "x = np.array(l)\n",
        "print(\"x:\\n\", x)\n",
        "print(\"shape: \", x.shape)"
      ],
      "metadata": {
        "colab": {
          "base_uri": "https://localhost:8080/"
        },
        "id": "M3_GXR1EGiUL",
        "outputId": "40058392-508a-4c7d-90ce-11db3e768473"
      },
      "execution_count": null,
      "outputs": [
        {
          "output_type": "stream",
          "name": "stdout",
          "text": [
            "x:\n",
            " [[1 2]\n",
            " [3 4]]\n",
            "shape:  (2, 2)\n"
          ]
        }
      ]
    },
    {
      "cell_type": "code",
      "source": [
        "# array contendo apenas 0s e 1s\n",
        "dim = (2, 2) # (linhas, colunas)\n",
        "x = np.zeros(dim)\n",
        "y = np.ones(dim)\n",
        "print(\"x:\\n\", x)\n",
        "print(\"x shape: \", x.shape)\n",
        "print(\"\\n\\n\")\n",
        "print(\"y:\\n\", y)\n",
        "print(\"y shape: \", y.shape)"
      ],
      "metadata": {
        "colab": {
          "base_uri": "https://localhost:8080/"
        },
        "id": "DUpLV7_BHZ3I",
        "outputId": "1f1e11e1-683a-4543-b9f1-db694b49686c"
      },
      "execution_count": null,
      "outputs": [
        {
          "output_type": "stream",
          "name": "stdout",
          "text": [
            "x:\n",
            " [[0. 0.]\n",
            " [0. 0.]]\n",
            "x shape:  (2, 2)\n",
            "\n",
            "\n",
            "\n",
            "y:\n",
            " [[1. 1.]\n",
            " [1. 1.]]\n",
            "y shape:  (2, 2)\n"
          ]
        }
      ]
    },
    {
      "cell_type": "code",
      "source": [
        "# criaçãode valroes dentro de um intervalo\n",
        "# valores uniformes entre 5 e 15\n",
        "x_min, x_max = 5, 15\n",
        "x = np.linspace(x_min, x_max, 6)\n",
        "print(\"x: \", x)\n",
        "print(\"shape: \", x.shape)"
      ],
      "metadata": {
        "colab": {
          "base_uri": "https://localhost:8080/"
        },
        "id": "3M8j29voH-LM",
        "outputId": "29a9bc73-dc5e-42a6-c907-bb3bff53b650"
      },
      "execution_count": null,
      "outputs": [
        {
          "output_type": "stream",
          "name": "stdout",
          "text": [
            "x:  [ 5.  7.  9. 11. 13. 15.]\n",
            "shape:  (6,)\n"
          ]
        }
      ]
    },
    {
      "cell_type": "code",
      "source": [
        "# ciração da matriz identidade\n",
        "x = np.eye(4)\n",
        "print(\"x:\\n\", x)\n",
        "print(\"shape: \", x.shape)"
      ],
      "metadata": {
        "colab": {
          "base_uri": "https://localhost:8080/"
        },
        "id": "UyIfdUzkIaHF",
        "outputId": "77b72e0b-9a97-4d2f-beea-5570cb397d84"
      },
      "execution_count": null,
      "outputs": [
        {
          "output_type": "stream",
          "name": "stdout",
          "text": [
            "x:\n",
            " [[1. 0. 0. 0.]\n",
            " [0. 1. 0. 0.]\n",
            " [0. 0. 1. 0.]\n",
            " [0. 0. 0. 1.]]\n",
            "shape:  (4, 4)\n"
          ]
        }
      ]
    },
    {
      "cell_type": "code",
      "source": [
        "# criação de valores aletórios\n",
        "x = np.random.random(size=(2, 3))\n",
        "print(\"x:\\n\", x)\n",
        "print(\"shape: \", x.shape)"
      ],
      "metadata": {
        "colab": {
          "base_uri": "https://localhost:8080/"
        },
        "id": "ACRkOqJ8Ik2G",
        "outputId": "3c4d9b8e-730a-4fac-a06a-ed2ae0371384"
      },
      "execution_count": null,
      "outputs": [
        {
          "output_type": "stream",
          "name": "stdout",
          "text": [
            "x:\n",
            " [[0.61918198 0.459283   0.90162412]\n",
            " [0.54187572 0.75785055 0.73204858]]\n",
            "shape:  (2, 3)\n"
          ]
        }
      ]
    }
  ]
}