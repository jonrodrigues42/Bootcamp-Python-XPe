{
  "nbformat": 4,
  "nbformat_minor": 0,
  "metadata": {
    "colab": {
      "provenance": [],
      "authorship_tag": "ABX9TyNIuBPbicwNWBfyS+euwmNY",
      "include_colab_link": true
    },
    "kernelspec": {
      "name": "python3",
      "display_name": "Python 3"
    },
    "language_info": {
      "name": "python"
    }
  },
  "cells": [
    {
      "cell_type": "markdown",
      "metadata": {
        "id": "view-in-github",
        "colab_type": "text"
      },
      "source": [
        "<a href=\"https://colab.research.google.com/github/jonrodrigues42/Bootcamp-Python-XPe/blob/master/XPE_Bootcamp_Python_M%C3%B3dulo_2.ipynb\" target=\"_parent\"><img src=\"https://colab.research.google.com/assets/colab-badge.svg\" alt=\"Open In Colab\"/></a>"
      ]
    },
    {
      "cell_type": "markdown",
      "source": [
        "# Criação de Arrays"
      ],
      "metadata": {
        "id": "fN2Gy_BX3xf1"
      }
    },
    {
      "cell_type": "code",
      "execution_count": 1,
      "metadata": {
        "id": "w6cFD0pVF0Qs"
      },
      "outputs": [],
      "source": [
        "# importando as dependências\n",
        "import numpy as np"
      ]
    },
    {
      "cell_type": "code",
      "source": [
        "# help da função\n",
        "np.array?"
      ],
      "metadata": {
        "id": "BjqgtzkCGDmR"
      },
      "execution_count": null,
      "outputs": []
    },
    {
      "cell_type": "code",
      "source": [
        "# criando um array 1D: [1, 2, 3]\n",
        "l = [1, 2, 3]\n",
        "x = np.array(l)\n",
        "print(\"x: \", x)\n",
        "print(\"shape: \", x.shape)"
      ],
      "metadata": {
        "colab": {
          "base_uri": "https://localhost:8080/"
        },
        "id": "rFqfy6R5GIAM",
        "outputId": "b3261bb7-d85a-47f3-ef12-424647ca851c"
      },
      "execution_count": null,
      "outputs": [
        {
          "output_type": "stream",
          "name": "stdout",
          "text": [
            "x:  [1 2 3]\n",
            "shape:  (3,)\n"
          ]
        }
      ]
    },
    {
      "cell_type": "code",
      "source": [
        "type(x)"
      ],
      "metadata": {
        "colab": {
          "base_uri": "https://localhost:8080/"
        },
        "id": "bjHIfPWUGgaM",
        "outputId": "31412fc0-2c8e-4347-ee16-d820ee663207"
      },
      "execution_count": null,
      "outputs": [
        {
          "output_type": "execute_result",
          "data": {
            "text/plain": [
              "numpy.ndarray"
            ]
          },
          "metadata": {},
          "execution_count": 5
        }
      ]
    },
    {
      "cell_type": "code",
      "source": [
        "# criando um array 2D: listas aninhadas\n",
        "l = [[1, 2], [3, 4]]\n",
        "x = np.array(l)\n",
        "print(\"x:\\n\", x)\n",
        "print(\"shape: \", x.shape)"
      ],
      "metadata": {
        "colab": {
          "base_uri": "https://localhost:8080/"
        },
        "id": "M3_GXR1EGiUL",
        "outputId": "40058392-508a-4c7d-90ce-11db3e768473"
      },
      "execution_count": null,
      "outputs": [
        {
          "output_type": "stream",
          "name": "stdout",
          "text": [
            "x:\n",
            " [[1 2]\n",
            " [3 4]]\n",
            "shape:  (2, 2)\n"
          ]
        }
      ]
    },
    {
      "cell_type": "code",
      "source": [
        "# array contendo apenas 0s e 1s\n",
        "dim = (2, 2) # (linhas, colunas)\n",
        "x = np.zeros(dim)\n",
        "y = np.ones(dim)\n",
        "print(\"x:\\n\", x)\n",
        "print(\"x shape: \", x.shape)\n",
        "print(\"\\n\\n\")\n",
        "print(\"y:\\n\", y)\n",
        "print(\"y shape: \", y.shape)"
      ],
      "metadata": {
        "colab": {
          "base_uri": "https://localhost:8080/"
        },
        "id": "DUpLV7_BHZ3I",
        "outputId": "1f1e11e1-683a-4543-b9f1-db694b49686c"
      },
      "execution_count": null,
      "outputs": [
        {
          "output_type": "stream",
          "name": "stdout",
          "text": [
            "x:\n",
            " [[0. 0.]\n",
            " [0. 0.]]\n",
            "x shape:  (2, 2)\n",
            "\n",
            "\n",
            "\n",
            "y:\n",
            " [[1. 1.]\n",
            " [1. 1.]]\n",
            "y shape:  (2, 2)\n"
          ]
        }
      ]
    },
    {
      "cell_type": "code",
      "source": [
        "# criaçãode valroes dentro de um intervalo\n",
        "# valores uniformes entre 5 e 15\n",
        "x_min, x_max = 5, 15\n",
        "x = np.linspace(x_min, x_max, 6)\n",
        "print(\"x: \", x)\n",
        "print(\"shape: \", x.shape)"
      ],
      "metadata": {
        "colab": {
          "base_uri": "https://localhost:8080/"
        },
        "id": "3M8j29voH-LM",
        "outputId": "29a9bc73-dc5e-42a6-c907-bb3bff53b650"
      },
      "execution_count": null,
      "outputs": [
        {
          "output_type": "stream",
          "name": "stdout",
          "text": [
            "x:  [ 5.  7.  9. 11. 13. 15.]\n",
            "shape:  (6,)\n"
          ]
        }
      ]
    },
    {
      "cell_type": "code",
      "source": [
        "# ciração da matriz identidade\n",
        "x = np.eye(4)\n",
        "print(\"x:\\n\", x)\n",
        "print(\"shape: \", x.shape)"
      ],
      "metadata": {
        "colab": {
          "base_uri": "https://localhost:8080/"
        },
        "id": "UyIfdUzkIaHF",
        "outputId": "77b72e0b-9a97-4d2f-beea-5570cb397d84"
      },
      "execution_count": null,
      "outputs": [
        {
          "output_type": "stream",
          "name": "stdout",
          "text": [
            "x:\n",
            " [[1. 0. 0. 0.]\n",
            " [0. 1. 0. 0.]\n",
            " [0. 0. 1. 0.]\n",
            " [0. 0. 0. 1.]]\n",
            "shape:  (4, 4)\n"
          ]
        }
      ]
    },
    {
      "cell_type": "code",
      "source": [
        "# criação de valores aletórios\n",
        "x = np.random.random(size=(2, 3))\n",
        "print(\"x:\\n\", x)\n",
        "print(\"shape: \", x.shape)"
      ],
      "metadata": {
        "colab": {
          "base_uri": "https://localhost:8080/"
        },
        "id": "ACRkOqJ8Ik2G",
        "outputId": "3c4d9b8e-730a-4fac-a06a-ed2ae0371384"
      },
      "execution_count": null,
      "outputs": [
        {
          "output_type": "stream",
          "name": "stdout",
          "text": [
            "x:\n",
            " [[0.61918198 0.459283   0.90162412]\n",
            " [0.54187572 0.75785055 0.73204858]]\n",
            "shape:  (2, 3)\n"
          ]
        }
      ]
    },
    {
      "cell_type": "markdown",
      "source": [
        "# Indexação de arrays"
      ],
      "metadata": {
        "id": "iagZ3FX-3-aG"
      }
    },
    {
      "cell_type": "code",
      "source": [
        "# os índices no Python vão de 0 a n-1\n",
        "# onde n é o tamanho da dimensão\n",
        "x = np.linspace(10, 100, 10)\n",
        "print(f\"x: {x}\")\n",
        "print(f\"shape: {x.shape}\")"
      ],
      "metadata": {
        "colab": {
          "base_uri": "https://localhost:8080/"
        },
        "id": "OLhgPoTN4EJg",
        "outputId": "e2620786-dc6a-4e83-de44-afa9ad98c2ba"
      },
      "execution_count": 2,
      "outputs": [
        {
          "output_type": "stream",
          "name": "stdout",
          "text": [
            "x: [ 10.  20.  30.  40.  50.  60.  70.  80.  90. 100.]\n",
            "shape: (10,)\n"
          ]
        }
      ]
    },
    {
      "cell_type": "code",
      "source": [
        "# extração de elementos\n",
        "print(f\"x: {x}\")\n",
        "print(f\"primeiro elemento: {x[0]}\")\n",
        "print(f\"segundo elemento: {x[1]}\")\n",
        "print(f\"último elemento: {x[9]}\")\n",
        "print(f\"último (-1) elemento: {x[-1]}\")"
      ],
      "metadata": {
        "colab": {
          "base_uri": "https://localhost:8080/"
        },
        "id": "SUiPwNmD4as4",
        "outputId": "f08c39f1-3f76-4001-be3b-72892cf89077"
      },
      "execution_count": 5,
      "outputs": [
        {
          "output_type": "stream",
          "name": "stdout",
          "text": [
            "x: [ 10.  20.  30.  40.  50.  60.  70.  80.  90. 100.]\n",
            "primeiro elemento: 10.0\n",
            "segundo elemento: 20.0\n",
            "último elemento: 100.0\n",
            "último (-1) elemento: 100.0\n"
          ]
        }
      ]
    },
    {
      "cell_type": "code",
      "source": [
        "# slicing: extração de subarrays:\n",
        "print(f\"x: {x}\")\n",
        "print(f\"dois primeiros elementos: {x[0:2]}\") # 2 é exlusivo\n",
        "print(f\"dois primeiros elementos: {x[:2]}\") # 2 é exlusivo, pode-se omitir 0 \n",
        "print(f\"dois últimos elementos: {x[-2:]}\")"
      ],
      "metadata": {
        "colab": {
          "base_uri": "https://localhost:8080/"
        },
        "id": "5MXZxefJ43vf",
        "outputId": "b0ef29be-51b6-4df1-a804-dc9192566ecc"
      },
      "execution_count": 6,
      "outputs": [
        {
          "output_type": "stream",
          "name": "stdout",
          "text": [
            "x: [ 10.  20.  30.  40.  50.  60.  70.  80.  90. 100.]\n",
            "dois primeiros elementos: [10. 20.]\n",
            "dois primeiros elementos: [10. 20.]\n",
            "dois últimos elementos: [ 90. 100.]\n"
          ]
        }
      ]
    },
    {
      "cell_type": "code",
      "source": [
        "# slicing em arrys 2D (matrizes)\n",
        "x = x.reshape(2, 5) # reshape de x para 2 linhas e 5 colunas\n",
        "print(f\"x:\\n {x}\")"
      ],
      "metadata": {
        "colab": {
          "base_uri": "https://localhost:8080/"
        },
        "id": "Y3Ju4i5R5myk",
        "outputId": "a66eba3d-a70f-413f-93a4-dcaecad858b3"
      },
      "execution_count": 10,
      "outputs": [
        {
          "output_type": "stream",
          "name": "stdout",
          "text": [
            "x:\n",
            " [[ 10.  20.  30.  40.  50.]\n",
            " [ 60.  70.  80.  90. 100.]]\n"
          ]
        }
      ]
    },
    {
      "cell_type": "code",
      "source": [
        "# extração de elementos\n",
        "print(f\"x:\\n {x}\\n\")\n",
        "print(f\"primeira linha, segunda coluna: {x[0, 1]}\")\n",
        "print(f\"segunda linha, penúltima coluna: {x[1, -2]}\")\n",
        "print(f\"última linha, última coluna: {x[-1, 4]}\")\n",
        "print(f\"última linha, última coluna: {x[-1, -1]}\")"
      ],
      "metadata": {
        "colab": {
          "base_uri": "https://localhost:8080/"
        },
        "id": "aqpXqYb454PP",
        "outputId": "fc46419b-dbb7-424f-84ce-af1a2870cf00"
      },
      "execution_count": 13,
      "outputs": [
        {
          "output_type": "stream",
          "name": "stdout",
          "text": [
            "x:\n",
            " [[ 10.  20.  30.  40.  50.]\n",
            " [ 60.  70.  80.  90. 100.]]\n",
            "\n",
            "primeira linha, segunda coluna: 20.0\n",
            "segunda linha, penúltima coluna: 90.0\n",
            "última linha, última coluna: 100.0\n",
            "última linha, última coluna: 100.0\n"
          ]
        }
      ]
    },
    {
      "cell_type": "code",
      "source": [
        "# slicing: estração de subarrays\n",
        "print(f\"x:\\n{x}\\n\")\n",
        "print(f\"primeira linha inteira: {x[0, :]}\")\n",
        "print(f\"primeira linha, segunda à quarta colina: {x[0, 1:4]}\")\n",
        "print(f\"última coluna inteira:\\n {x[:, [-1]]}\") # ao passar entre [-1] entre colchetes, mantêm os elementos no tipo coluna"
      ],
      "metadata": {
        "colab": {
          "base_uri": "https://localhost:8080/"
        },
        "id": "JhYvBsKx6crS",
        "outputId": "8a410645-4514-4d00-bc8f-49afd40190c0"
      },
      "execution_count": 18,
      "outputs": [
        {
          "output_type": "stream",
          "name": "stdout",
          "text": [
            "x:\n",
            "[[ 10.  20.  30.  40.  50.]\n",
            " [ 60.  70.  80.  90. 100.]]\n",
            "\n",
            "primeira linha inteira: [10. 20. 30. 40. 50.]\n",
            "primeira linha, segunda à quarta colina: [20. 30. 40.]\n",
            "última coluna inteira:\n",
            " [[ 50.]\n",
            " [100.]]\n"
          ]
        }
      ]
    },
    {
      "cell_type": "code",
      "source": [
        "# atenção com compartilhamento de memória em subarrays!\n",
        "x = np.array([1, 2, 3])\n",
        "print(f\"x antes: {x}\")\n",
        "y = x[:2]\n",
        "y[0] = -100 # alteração do valor em y altera o valor de x\n",
        "print(f\"x depois: {x}\") # um slicing é uma \"shallow copy\" do array original\n",
        "print(f\"y: {y}\")"
      ],
      "metadata": {
        "colab": {
          "base_uri": "https://localhost:8080/"
        },
        "id": "0QKIGDp57DYQ",
        "outputId": "9f66a8ae-8951-496d-d81b-6a64c40d2d3b"
      },
      "execution_count": 25,
      "outputs": [
        {
          "output_type": "stream",
          "name": "stdout",
          "text": [
            "x antes: [1 2 3]\n",
            "x depois: [-100    2    3]\n",
            "y: [-100    2]\n"
          ]
        }
      ]
    },
    {
      "cell_type": "code",
      "source": [
        "# atenção com compartilhamento de memória em subarrays!!\n",
        "x = np.array([1, 2, 3])\n",
        "print(f\"x antes: {x}\")\n",
        "y = x[:2].copy()\n",
        "y[0] = -100 # alteração do valor em y NÃO altera o valor de x\n",
        "print(f\"x depois: {x}\")\n",
        "print(f\"y: {y}\")"
      ],
      "metadata": {
        "colab": {
          "base_uri": "https://localhost:8080/"
        },
        "id": "UZ8F0cd370TC",
        "outputId": "cf51bd7c-4e68-4efc-d1a7-0d4baea1b47f"
      },
      "execution_count": 24,
      "outputs": [
        {
          "output_type": "stream",
          "name": "stdout",
          "text": [
            "x antes: [1 2 3]\n",
            "x depois: [1 2 3]\n",
            "y: [-100    2]\n"
          ]
        }
      ]
    }
  ]
}