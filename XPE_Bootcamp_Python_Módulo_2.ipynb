{
  "nbformat": 4,
  "nbformat_minor": 0,
  "metadata": {
    "colab": {
      "provenance": [],
      "authorship_tag": "ABX9TyMST7eLRomBu++E4Y8FaUiW",
      "include_colab_link": true
    },
    "kernelspec": {
      "name": "python3",
      "display_name": "Python 3"
    },
    "language_info": {
      "name": "python"
    }
  },
  "cells": [
    {
      "cell_type": "markdown",
      "metadata": {
        "id": "view-in-github",
        "colab_type": "text"
      },
      "source": [
        "<a href=\"https://colab.research.google.com/github/jonrodrigues42/Bootcamp-Python-XPe/blob/master/XPE_Bootcamp_Python_M%C3%B3dulo_2.ipynb\" target=\"_parent\"><img src=\"https://colab.research.google.com/assets/colab-badge.svg\" alt=\"Open In Colab\"/></a>"
      ]
    },
    {
      "cell_type": "code",
      "execution_count": 15,
      "metadata": {
        "id": "w6cFD0pVF0Qs"
      },
      "outputs": [],
      "source": [
        "# importando as dependências\n",
        "import numpy as np"
      ]
    },
    {
      "cell_type": "markdown",
      "source": [
        "# Criação de arrays"
      ],
      "metadata": {
        "id": "fN2Gy_BX3xf1"
      }
    },
    {
      "cell_type": "code",
      "source": [
        "# help da função\n",
        "np.array?"
      ],
      "metadata": {
        "id": "BjqgtzkCGDmR"
      },
      "execution_count": null,
      "outputs": []
    },
    {
      "cell_type": "code",
      "source": [
        "# criando um array 1D: [1, 2, 3]\n",
        "l = [1, 2, 3]\n",
        "x = np.array(l)\n",
        "print(\"x: \", x)\n",
        "print(\"shape: \", x.shape)"
      ],
      "metadata": {
        "colab": {
          "base_uri": "https://localhost:8080/"
        },
        "id": "rFqfy6R5GIAM",
        "outputId": "b3261bb7-d85a-47f3-ef12-424647ca851c"
      },
      "execution_count": null,
      "outputs": [
        {
          "output_type": "stream",
          "name": "stdout",
          "text": [
            "x:  [1 2 3]\n",
            "shape:  (3,)\n"
          ]
        }
      ]
    },
    {
      "cell_type": "code",
      "source": [
        "type(x)"
      ],
      "metadata": {
        "colab": {
          "base_uri": "https://localhost:8080/"
        },
        "id": "bjHIfPWUGgaM",
        "outputId": "31412fc0-2c8e-4347-ee16-d820ee663207"
      },
      "execution_count": null,
      "outputs": [
        {
          "output_type": "execute_result",
          "data": {
            "text/plain": [
              "numpy.ndarray"
            ]
          },
          "metadata": {},
          "execution_count": 5
        }
      ]
    },
    {
      "cell_type": "code",
      "source": [
        "# criando um array 2D: listas aninhadas\n",
        "l = [[1, 2], [3, 4]]\n",
        "x = np.array(l)\n",
        "print(\"x:\\n\", x)\n",
        "print(\"shape: \", x.shape)"
      ],
      "metadata": {
        "colab": {
          "base_uri": "https://localhost:8080/"
        },
        "id": "M3_GXR1EGiUL",
        "outputId": "40058392-508a-4c7d-90ce-11db3e768473"
      },
      "execution_count": null,
      "outputs": [
        {
          "output_type": "stream",
          "name": "stdout",
          "text": [
            "x:\n",
            " [[1 2]\n",
            " [3 4]]\n",
            "shape:  (2, 2)\n"
          ]
        }
      ]
    },
    {
      "cell_type": "code",
      "source": [
        "# array contendo apenas 0s e 1s\n",
        "dim = (2, 2) # (linhas, colunas)\n",
        "x = np.zeros(dim)\n",
        "y = np.ones(dim)\n",
        "print(\"x:\\n\", x)\n",
        "print(\"x shape: \", x.shape)\n",
        "print(\"\\n\\n\")\n",
        "print(\"y:\\n\", y)\n",
        "print(\"y shape: \", y.shape)"
      ],
      "metadata": {
        "colab": {
          "base_uri": "https://localhost:8080/"
        },
        "id": "DUpLV7_BHZ3I",
        "outputId": "1f1e11e1-683a-4543-b9f1-db694b49686c"
      },
      "execution_count": null,
      "outputs": [
        {
          "output_type": "stream",
          "name": "stdout",
          "text": [
            "x:\n",
            " [[0. 0.]\n",
            " [0. 0.]]\n",
            "x shape:  (2, 2)\n",
            "\n",
            "\n",
            "\n",
            "y:\n",
            " [[1. 1.]\n",
            " [1. 1.]]\n",
            "y shape:  (2, 2)\n"
          ]
        }
      ]
    },
    {
      "cell_type": "code",
      "source": [
        "# criaçãode valroes dentro de um intervalo\n",
        "# valores uniformes entre 5 e 15\n",
        "x_min, x_max = 5, 15\n",
        "x = np.linspace(x_min, x_max, 6)\n",
        "print(\"x: \", x)\n",
        "print(\"shape: \", x.shape)"
      ],
      "metadata": {
        "colab": {
          "base_uri": "https://localhost:8080/"
        },
        "id": "3M8j29voH-LM",
        "outputId": "29a9bc73-dc5e-42a6-c907-bb3bff53b650"
      },
      "execution_count": null,
      "outputs": [
        {
          "output_type": "stream",
          "name": "stdout",
          "text": [
            "x:  [ 5.  7.  9. 11. 13. 15.]\n",
            "shape:  (6,)\n"
          ]
        }
      ]
    },
    {
      "cell_type": "code",
      "source": [
        "# ciração da matriz identidade\n",
        "x = np.eye(4)\n",
        "print(\"x:\\n\", x)\n",
        "print(\"shape: \", x.shape)"
      ],
      "metadata": {
        "colab": {
          "base_uri": "https://localhost:8080/"
        },
        "id": "UyIfdUzkIaHF",
        "outputId": "77b72e0b-9a97-4d2f-beea-5570cb397d84"
      },
      "execution_count": null,
      "outputs": [
        {
          "output_type": "stream",
          "name": "stdout",
          "text": [
            "x:\n",
            " [[1. 0. 0. 0.]\n",
            " [0. 1. 0. 0.]\n",
            " [0. 0. 1. 0.]\n",
            " [0. 0. 0. 1.]]\n",
            "shape:  (4, 4)\n"
          ]
        }
      ]
    },
    {
      "cell_type": "code",
      "source": [
        "# criação de valores aletórios\n",
        "x = np.random.random(size=(2, 3))\n",
        "print(\"x:\\n\", x)\n",
        "print(\"shape: \", x.shape)"
      ],
      "metadata": {
        "colab": {
          "base_uri": "https://localhost:8080/"
        },
        "id": "ACRkOqJ8Ik2G",
        "outputId": "3c4d9b8e-730a-4fac-a06a-ed2ae0371384"
      },
      "execution_count": null,
      "outputs": [
        {
          "output_type": "stream",
          "name": "stdout",
          "text": [
            "x:\n",
            " [[0.61918198 0.459283   0.90162412]\n",
            " [0.54187572 0.75785055 0.73204858]]\n",
            "shape:  (2, 3)\n"
          ]
        }
      ]
    },
    {
      "cell_type": "markdown",
      "source": [
        "# Indexação de arrays"
      ],
      "metadata": {
        "id": "iagZ3FX-3-aG"
      }
    },
    {
      "cell_type": "code",
      "source": [
        "# os índices no Python vão de 0 a n-1\n",
        "# onde n é o tamanho da dimensão\n",
        "x = np.linspace(10, 100, 10)\n",
        "print(f\"x: {x}\")\n",
        "print(f\"shape: {x.shape}\")"
      ],
      "metadata": {
        "colab": {
          "base_uri": "https://localhost:8080/"
        },
        "id": "OLhgPoTN4EJg",
        "outputId": "e2620786-dc6a-4e83-de44-afa9ad98c2ba"
      },
      "execution_count": null,
      "outputs": [
        {
          "output_type": "stream",
          "name": "stdout",
          "text": [
            "x: [ 10.  20.  30.  40.  50.  60.  70.  80.  90. 100.]\n",
            "shape: (10,)\n"
          ]
        }
      ]
    },
    {
      "cell_type": "code",
      "source": [
        "# extração de elementos\n",
        "print(f\"x: {x}\")\n",
        "print(f\"primeiro elemento: {x[0]}\")\n",
        "print(f\"segundo elemento: {x[1]}\")\n",
        "print(f\"último elemento: {x[9]}\")\n",
        "print(f\"último (-1) elemento: {x[-1]}\")"
      ],
      "metadata": {
        "colab": {
          "base_uri": "https://localhost:8080/"
        },
        "id": "SUiPwNmD4as4",
        "outputId": "f08c39f1-3f76-4001-be3b-72892cf89077"
      },
      "execution_count": null,
      "outputs": [
        {
          "output_type": "stream",
          "name": "stdout",
          "text": [
            "x: [ 10.  20.  30.  40.  50.  60.  70.  80.  90. 100.]\n",
            "primeiro elemento: 10.0\n",
            "segundo elemento: 20.0\n",
            "último elemento: 100.0\n",
            "último (-1) elemento: 100.0\n"
          ]
        }
      ]
    },
    {
      "cell_type": "code",
      "source": [
        "# slicing: extração de subarrays:\n",
        "print(f\"x: {x}\")\n",
        "print(f\"dois primeiros elementos: {x[0:2]}\") # 2 é exlusivo\n",
        "print(f\"dois primeiros elementos: {x[:2]}\") # 2 é exlusivo, pode-se omitir 0 \n",
        "print(f\"dois últimos elementos: {x[-2:]}\")"
      ],
      "metadata": {
        "colab": {
          "base_uri": "https://localhost:8080/"
        },
        "id": "5MXZxefJ43vf",
        "outputId": "b0ef29be-51b6-4df1-a804-dc9192566ecc"
      },
      "execution_count": null,
      "outputs": [
        {
          "output_type": "stream",
          "name": "stdout",
          "text": [
            "x: [ 10.  20.  30.  40.  50.  60.  70.  80.  90. 100.]\n",
            "dois primeiros elementos: [10. 20.]\n",
            "dois primeiros elementos: [10. 20.]\n",
            "dois últimos elementos: [ 90. 100.]\n"
          ]
        }
      ]
    },
    {
      "cell_type": "code",
      "source": [
        "# slicing em arrys 2D (matrizes)\n",
        "x = x.reshape(2, 5) # reshape de x para 2 linhas e 5 colunas\n",
        "print(f\"x:\\n {x}\")"
      ],
      "metadata": {
        "colab": {
          "base_uri": "https://localhost:8080/"
        },
        "id": "Y3Ju4i5R5myk",
        "outputId": "a66eba3d-a70f-413f-93a4-dcaecad858b3"
      },
      "execution_count": null,
      "outputs": [
        {
          "output_type": "stream",
          "name": "stdout",
          "text": [
            "x:\n",
            " [[ 10.  20.  30.  40.  50.]\n",
            " [ 60.  70.  80.  90. 100.]]\n"
          ]
        }
      ]
    },
    {
      "cell_type": "code",
      "source": [
        "# extração de elementos\n",
        "print(f\"x:\\n {x}\\n\")\n",
        "print(f\"primeira linha, segunda coluna: {x[0, 1]}\")\n",
        "print(f\"segunda linha, penúltima coluna: {x[1, -2]}\")\n",
        "print(f\"última linha, última coluna: {x[-1, 4]}\")\n",
        "print(f\"última linha, última coluna: {x[-1, -1]}\")"
      ],
      "metadata": {
        "colab": {
          "base_uri": "https://localhost:8080/"
        },
        "id": "aqpXqYb454PP",
        "outputId": "fc46419b-dbb7-424f-84ce-af1a2870cf00"
      },
      "execution_count": null,
      "outputs": [
        {
          "output_type": "stream",
          "name": "stdout",
          "text": [
            "x:\n",
            " [[ 10.  20.  30.  40.  50.]\n",
            " [ 60.  70.  80.  90. 100.]]\n",
            "\n",
            "primeira linha, segunda coluna: 20.0\n",
            "segunda linha, penúltima coluna: 90.0\n",
            "última linha, última coluna: 100.0\n",
            "última linha, última coluna: 100.0\n"
          ]
        }
      ]
    },
    {
      "cell_type": "code",
      "source": [
        "# slicing: estração de subarrays\n",
        "print(f\"x:\\n{x}\\n\")\n",
        "print(f\"primeira linha inteira: {x[0, :]}\")\n",
        "print(f\"primeira linha, segunda à quarta colina: {x[0, 1:4]}\")\n",
        "print(f\"última coluna inteira:\\n {x[:, [-1]]}\") # ao passar entre [-1] entre colchetes, mantêm os elementos no tipo coluna"
      ],
      "metadata": {
        "colab": {
          "base_uri": "https://localhost:8080/"
        },
        "id": "JhYvBsKx6crS",
        "outputId": "8a410645-4514-4d00-bc8f-49afd40190c0"
      },
      "execution_count": null,
      "outputs": [
        {
          "output_type": "stream",
          "name": "stdout",
          "text": [
            "x:\n",
            "[[ 10.  20.  30.  40.  50.]\n",
            " [ 60.  70.  80.  90. 100.]]\n",
            "\n",
            "primeira linha inteira: [10. 20. 30. 40. 50.]\n",
            "primeira linha, segunda à quarta colina: [20. 30. 40.]\n",
            "última coluna inteira:\n",
            " [[ 50.]\n",
            " [100.]]\n"
          ]
        }
      ]
    },
    {
      "cell_type": "code",
      "source": [
        "# atenção com compartilhamento de memória em subarrays!\n",
        "x = np.array([1, 2, 3])\n",
        "print(f\"x antes: {x}\")\n",
        "y = x[:2]\n",
        "y[0] = -100 # alteração do valor em y altera o valor de x\n",
        "print(f\"x depois: {x}\") # um slicing é uma \"shallow copy\" do array original\n",
        "print(f\"y: {y}\")"
      ],
      "metadata": {
        "colab": {
          "base_uri": "https://localhost:8080/"
        },
        "id": "0QKIGDp57DYQ",
        "outputId": "9f66a8ae-8951-496d-d81b-6a64c40d2d3b"
      },
      "execution_count": null,
      "outputs": [
        {
          "output_type": "stream",
          "name": "stdout",
          "text": [
            "x antes: [1 2 3]\n",
            "x depois: [-100    2    3]\n",
            "y: [-100    2]\n"
          ]
        }
      ]
    },
    {
      "cell_type": "code",
      "source": [
        "# atenção com compartilhamento de memória em subarrays!!\n",
        "x = np.array([1, 2, 3])\n",
        "print(f\"x antes: {x}\")\n",
        "y = x[:2].copy()\n",
        "y[0] = -100 # alteração do valor em y NÃO altera o valor de x\n",
        "print(f\"x depois: {x}\")\n",
        "print(f\"y: {y}\")"
      ],
      "metadata": {
        "colab": {
          "base_uri": "https://localhost:8080/"
        },
        "id": "UZ8F0cd370TC",
        "outputId": "cf51bd7c-4e68-4efc-d1a7-0d4baea1b47f"
      },
      "execution_count": null,
      "outputs": [
        {
          "output_type": "stream",
          "name": "stdout",
          "text": [
            "x antes: [1 2 3]\n",
            "x depois: [1 2 3]\n",
            "y: [-100    2]\n"
          ]
        }
      ]
    },
    {
      "cell_type": "markdown",
      "source": [
        "# Operações aritméticas"
      ],
      "metadata": {
        "id": "0O5qG3Q6M-Td"
      }
    },
    {
      "cell_type": "code",
      "source": [
        "# criação de dois arrays x e y\n",
        "x = np.ones((2, 2))\n",
        "y = np.eye(2)\n",
        "print(f\"x: \\n {x} \\n\")\n",
        "print(f\"y: \\n {y} \\n\")"
      ],
      "metadata": {
        "colab": {
          "base_uri": "https://localhost:8080/"
        },
        "id": "-SV4vHctNC7O",
        "outputId": "6a8beb59-733f-4971-a43e-373487eda9d7"
      },
      "execution_count": 4,
      "outputs": [
        {
          "output_type": "stream",
          "name": "stdout",
          "text": [
            "x: \n",
            " [[1. 1.]\n",
            " [1. 1.]] \n",
            "\n",
            "y: \n",
            " [[1. 0.]\n",
            " [0. 1.]] \n",
            "\n"
          ]
        }
      ]
    },
    {
      "cell_type": "code",
      "source": [
        "# soma\n",
        "print(f\"soma de dois arrays:\\n {x + y}\")\n",
        "print(f\"soma com float ou int:\\n {x + 2}\") # broadcasting"
      ],
      "metadata": {
        "colab": {
          "base_uri": "https://localhost:8080/"
        },
        "id": "Z2smNCZCPzfE",
        "outputId": "c2c1361d-6684-4f5f-a5f9-597d6570cc1b"
      },
      "execution_count": 5,
      "outputs": [
        {
          "output_type": "stream",
          "name": "stdout",
          "text": [
            "soma de dois arrays:\n",
            " [[2. 1.]\n",
            " [1. 2.]]\n",
            "soma com float ou int:\n",
            " [[3. 3.]\n",
            " [3. 3.]]\n"
          ]
        }
      ]
    },
    {
      "cell_type": "code",
      "source": [
        "# subtração\n",
        "print(f\"subtração de dois arrays:\\n {x - y}\")\n",
        "print(f\"subtração com float ou int:\\n {x - 2}\") # broadcasting"
      ],
      "metadata": {
        "colab": {
          "base_uri": "https://localhost:8080/"
        },
        "id": "UqNB1Kv4QDcr",
        "outputId": "174473df-91f2-4581-920d-f29ee8686329"
      },
      "execution_count": 6,
      "outputs": [
        {
          "output_type": "stream",
          "name": "stdout",
          "text": [
            "subtração de dois arrays:\n",
            " [[0. 1.]\n",
            " [1. 0.]]\n",
            "subtração com float ou int:\n",
            " [[-1. -1.]\n",
            " [-1. -1.]]\n"
          ]
        }
      ]
    },
    {
      "cell_type": "code",
      "source": [
        "# divisão\n",
        "print(f\"divisão de dois arrays:\\n {x / y}\")\n",
        "print(f\"divisão com float ou int:\\n {x / 2}\")"
      ],
      "metadata": {
        "colab": {
          "base_uri": "https://localhost:8080/"
        },
        "id": "gjlb314NQQCW",
        "outputId": "1d7c0e96-7055-4c2f-870d-d581ef012937"
      },
      "execution_count": 9,
      "outputs": [
        {
          "output_type": "stream",
          "name": "stdout",
          "text": [
            "divisão de dois arrays:\n",
            " [[ 1. inf]\n",
            " [inf  1.]]\n",
            "divisão com float ou int:\n",
            " [[0.5 0.5]\n",
            " [0.5 0.5]]\n"
          ]
        },
        {
          "output_type": "stream",
          "name": "stderr",
          "text": [
            "<ipython-input-9-6ab590008ebb>:2: RuntimeWarning: divide by zero encountered in true_divide\n",
            "  print(f\"divisão de dois arrays:\\n {x / y}\")\n"
          ]
        }
      ]
    },
    {
      "cell_type": "code",
      "source": [
        "# quando o broadcasting não funciona\n",
        "# np.array([1, 2, 3]) + np.array([1, 2])"
      ],
      "metadata": {
        "id": "iBqPhuYHRcOA"
      },
      "execution_count": null,
      "outputs": []
    },
    {
      "cell_type": "code",
      "source": [
        "# soma, subtração e divisão\n",
        "print(f\"combinação de operações: \\n {(x+y)/(x-2)}\")"
      ],
      "metadata": {
        "colab": {
          "base_uri": "https://localhost:8080/"
        },
        "id": "VxmwzgFVRmPT",
        "outputId": "593b1486-efe8-42ea-c35d-9992c375a871"
      },
      "execution_count": 14,
      "outputs": [
        {
          "output_type": "stream",
          "name": "stdout",
          "text": [
            "combinação de operações: \n",
            " [[-2. -1.]\n",
            " [-1. -2.]]\n"
          ]
        }
      ]
    },
    {
      "cell_type": "markdown",
      "source": [
        "# Funções aritméticas: multiplicação"
      ],
      "metadata": {
        "id": "GZCl-VheTGGk"
      }
    },
    {
      "cell_type": "code",
      "source": [
        "# multiplicação elemento a elemento\n",
        "print(f\"x: \\n {x}\")\n",
        "print(f\"y: \\n {y}\")"
      ],
      "metadata": {
        "colab": {
          "base_uri": "https://localhost:8080/"
        },
        "id": "XajOOxGCTL9e",
        "outputId": "8746ae9b-9ec1-4859-b40d-d64cca51a133"
      },
      "execution_count": 16,
      "outputs": [
        {
          "output_type": "stream",
          "name": "stdout",
          "text": [
            "x: \n",
            " [[1. 1.]\n",
            " [1. 1.]]\n",
            "y: \n",
            " [[1. 0.]\n",
            " [0. 1.]]\n"
          ]
        }
      ]
    },
    {
      "cell_type": "code",
      "source": [
        "# multiplicação\n",
        "print(f\"multiplicação de dois arrays:\\n {x * y}\")\n",
        "print(f\"multiplicação com float ou int:\\n {x * 2}\") # broadcasting"
      ],
      "metadata": {
        "colab": {
          "base_uri": "https://localhost:8080/"
        },
        "id": "EZBhKqlnTWKV",
        "outputId": "e2d049d9-0de8-4588-aa2f-b7e94cc866e0"
      },
      "execution_count": 17,
      "outputs": [
        {
          "output_type": "stream",
          "name": "stdout",
          "text": [
            "multiplicação de dois arrays:\n",
            " [[1. 0.]\n",
            " [0. 1.]]\n",
            "multiplicação com float ou int:\n",
            " [[2. 2.]\n",
            " [2. 2.]]\n"
          ]
        }
      ]
    },
    {
      "cell_type": "code",
      "source": [
        "# multiplicação matricial\n",
        "print(f\"multiplicação matricial (np.dot):\\n {np.dot(x, y)}\\n\")\n",
        "print(f\"multiplicação matricial (@):\\n {x @ y}\\n\")\n",
        "print(f\"multiplicação matricial (.dot):\\n {x.dot(y)}\")"
      ],
      "metadata": {
        "colab": {
          "base_uri": "https://localhost:8080/"
        },
        "id": "__EG9uXcT56j",
        "outputId": "bb601843-3f3b-49e2-f7b7-9bd330325505"
      },
      "execution_count": 18,
      "outputs": [
        {
          "output_type": "stream",
          "name": "stdout",
          "text": [
            "multiplicação matricial (np.dot):\n",
            " [[1. 1.]\n",
            " [1. 1.]]\n",
            "\n",
            "multiplicação matricial (@):\n",
            " [[1. 1.]\n",
            " [1. 1.]]\n",
            "\n",
            "multiplicação matricial (.dot):\n",
            " [[1. 1.]\n",
            " [1. 1.]]\n"
          ]
        }
      ]
    },
    {
      "cell_type": "code",
      "source": [
        "### teste\n",
        "a = np.array([[3, 5], [2, 0]])\n",
        "b = np.array([[4, 5, -2], [2, 1, 3]])\n",
        "a @ b"
      ],
      "metadata": {
        "colab": {
          "base_uri": "https://localhost:8080/"
        },
        "id": "930nGeeFX-dh",
        "outputId": "57c10ab3-3d27-40a3-99e5-5de3fdc6e047"
      },
      "execution_count": 28,
      "outputs": [
        {
          "output_type": "execute_result",
          "data": {
            "text/plain": [
              "array([[22, 20,  9],\n",
              "       [ 8, 10, -4]])"
            ]
          },
          "metadata": {},
          "execution_count": 28
        }
      ]
    },
    {
      "cell_type": "markdown",
      "source": [
        "**Exemplo:**  \n",
        "Solução de um sistema de equações:  \n",
        "```\n",
        "  a + 2*b = 7  \n",
        "3*a + 2*b = -11  \n",
        "Solução analitica: (a, b) = (-1, 4)\n",
        "```\n",
        "\n",
        "Matricialmente, esse problema tem a seguinte forma:  \n",
        "\n",
        "Ax = c, onde:\n",
        "  - x = [a, b]\n",
        "  - A = [[1, 2], [3, -2]]\n",
        "  - c = [7, -11]  \n",
        "Solução numérica: x = inv(A) @ c"
      ],
      "metadata": {
        "id": "e12cMsCaZJHC"
      }
    },
    {
      "cell_type": "code",
      "source": [
        "# definição do problema\n",
        "A = np.array([[1, 2], [3, -2]])\n",
        "c = np.array([[7], [-11]])\n",
        "print(f\"A: \\n {A}\")\n",
        "print(f\"C: \\n {c}\")"
      ],
      "metadata": {
        "colab": {
          "base_uri": "https://localhost:8080/"
        },
        "id": "U6oy2yhFZFne",
        "outputId": "b0cee006-66f3-4daa-9f0d-8ff4c9c55971"
      },
      "execution_count": 29,
      "outputs": [
        {
          "output_type": "stream",
          "name": "stdout",
          "text": [
            "A: \n",
            " [[ 1  2]\n",
            " [ 3 -2]]\n",
            "C: \n",
            " [[  7]\n",
            " [-11]]\n"
          ]
        }
      ]
    },
    {
      "cell_type": "code",
      "source": [
        "# solução\n",
        "# np.linalg.inv traz a inversa da matriz\n",
        "x = np.dot(np.linalg.inv(A), c)\n",
        "# x = np.linalg.inv(A) @ c\n",
        "print(f\"(a, b): \\n {x.ravel()}\")"
      ],
      "metadata": {
        "colab": {
          "base_uri": "https://localhost:8080/"
        },
        "id": "ge7Bvm8Pa-47",
        "outputId": "d5ad5842-0cd4-44fc-ac2a-c615c80ed9d9"
      },
      "execution_count": 33,
      "outputs": [
        {
          "output_type": "stream",
          "name": "stdout",
          "text": [
            "(a, b): \n",
            " [-1.  4.]\n"
          ]
        }
      ]
    }
  ]
}